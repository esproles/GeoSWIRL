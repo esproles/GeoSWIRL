{
  "nbformat": 4,
  "nbformat_minor": 0,
  "metadata": {
    "colab": {
      "name": "SnowEx_QA_QC_metData.ipynb",
      "provenance": [],
      "toc_visible": true,
      "include_colab_link": true
    },
    "kernelspec": {
      "name": "python3",
      "display_name": "Python 3"
    }
  },
  "cells": [
    {
      "cell_type": "markdown",
      "metadata": {
        "id": "view-in-github",
        "colab_type": "text"
      },
      "source": [
        "<a href=\"https://colab.research.google.com/github/esproles/GeoSWIRL/blob/master/SnowEx_QA_QC_metData.ipynb\" target=\"_parent\"><img src=\"https://colab.research.google.com/assets/colab-badge.svg\" alt=\"Open In Colab\"/></a>"
      ]
    },
    {
      "cell_type": "markdown",
      "metadata": {
        "id": "KlxVCUEuiObI"
      },
      "source": [
        "## Read in the data file that you downloaded to your computer locally "
      ]
    },
    {
      "cell_type": "code",
      "metadata": {
        "id": "68BfC2tYiiu3",
        "colab": {
          "resources": {
            "http://localhost:8080/nbextensions/google.colab/files.js": {
              "data": "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",
              "ok": true,
              "headers": [
                [
                  "content-type",
                  "application/javascript"
                ]
              ],
              "status": 200,
              "status_text": ""
            }
          },
          "base_uri": "https://localhost:8080/",
          "height": 72
        },
        "outputId": "16eaa321-4ad4-4ba8-ae7a-282034abb5ad"
      },
      "source": [
        "# Upload the data to your Google Drive space\n",
        "from google.colab import files\n",
        "uploaded = files.upload()  # Select the files that you need to upload."
      ],
      "execution_count": 1,
      "outputs": [
        {
          "output_type": "display_data",
          "data": {
            "text/html": [
              "\n",
              "     <input type=\"file\" id=\"files-54aff2fb-c190-4e93-b3c6-0bbdefad8196\" name=\"files[]\" multiple disabled\n",
              "        style=\"border:none\" />\n",
              "     <output id=\"result-54aff2fb-c190-4e93-b3c6-0bbdefad8196\">\n",
              "      Upload widget is only available when the cell has been executed in the\n",
              "      current browser session. Please rerun this cell to enable.\n",
              "      </output>\n",
              "      <script src=\"/nbextensions/google.colab/files.js\"></script> "
            ],
            "text/plain": [
              "<IPython.core.display.HTML object>"
            ]
          },
          "metadata": {
            "tags": []
          }
        },
        {
          "output_type": "stream",
          "text": [
            "Saving SnowEx_CR1000_Daily.dat to SnowEx_CR1000_Daily.dat\n"
          ],
          "name": "stdout"
        }
      ]
    },
    {
      "cell_type": "code",
      "metadata": {
        "id": "jXXHYwVojoXQ",
        "colab": {
          "base_uri": "https://localhost:8080/"
        },
        "outputId": "684b3e3d-62e1-4cd8-c017-91e904f4c9f8"
      },
      "source": [
        "filename = next(iter(uploaded))\n",
        "print(filename)"
      ],
      "execution_count": 2,
      "outputs": [
        {
          "output_type": "stream",
          "text": [
            "SnowEx_CR1000_Daily.dat\n"
          ],
          "name": "stdout"
        }
      ]
    },
    {
      "cell_type": "markdown",
      "metadata": {
        "id": "VbHHsp_X87rX"
      },
      "source": [
        "Import Pandas to read in the dataframe"
      ]
    },
    {
      "cell_type": "code",
      "metadata": {
        "id": "K4YVMunjY2q5"
      },
      "source": [
        "# Load in pandas to read the .dat file\n",
        "import pandas as pd\n",
        "\n"
      ],
      "execution_count": 3,
      "outputs": []
    },
    {
      "cell_type": "code",
      "metadata": {
        "colab": {
          "base_uri": "https://localhost:8080/"
        },
        "id": "Ls6mFOiTNgpe",
        "outputId": "038f389c-4f66-43a0-95bd-1899cd2ac3d1"
      },
      "source": [
        "pip install windrose"
      ],
      "execution_count": 4,
      "outputs": [
        {
          "output_type": "stream",
          "text": [
            "Collecting windrose\n",
            "  Downloading windrose-1.6.8-py2.py3-none-any.whl (20 kB)\n",
            "Requirement already satisfied: numpy in /usr/local/lib/python3.7/dist-packages (from windrose) (1.19.5)\n",
            "Requirement already satisfied: matplotlib in /usr/local/lib/python3.7/dist-packages (from windrose) (3.2.2)\n",
            "Requirement already satisfied: cycler>=0.10 in /usr/local/lib/python3.7/dist-packages (from matplotlib->windrose) (0.10.0)\n",
            "Requirement already satisfied: python-dateutil>=2.1 in /usr/local/lib/python3.7/dist-packages (from matplotlib->windrose) (2.8.1)\n",
            "Requirement already satisfied: pyparsing!=2.0.4,!=2.1.2,!=2.1.6,>=2.0.1 in /usr/local/lib/python3.7/dist-packages (from matplotlib->windrose) (2.4.7)\n",
            "Requirement already satisfied: kiwisolver>=1.0.1 in /usr/local/lib/python3.7/dist-packages (from matplotlib->windrose) (1.3.1)\n",
            "Requirement already satisfied: six in /usr/local/lib/python3.7/dist-packages (from cycler>=0.10->matplotlib->windrose) (1.15.0)\n",
            "Installing collected packages: windrose\n",
            "Successfully installed windrose-1.6.8\n"
          ],
          "name": "stdout"
        }
      ]
    },
    {
      "cell_type": "markdown",
      "metadata": {
        "id": "VgAkKdvY8cnc"
      },
      "source": [
        "## Get the data ready in a pandas dataframe"
      ]
    },
    {
      "cell_type": "code",
      "metadata": {
        "id": "-wX6_zUFaKdm",
        "colab": {
          "base_uri": "https://localhost:8080/",
          "height": 329
        },
        "outputId": "a0ea596f-c068-4f13-8b5c-b4f5ad61ce75"
      },
      "source": [
        "# Read the data frame as df, and then print out the header rows. \n",
        "df=pd.read_csv(filename,  header = 1)\n",
        "df.head()"
      ],
      "execution_count": 5,
      "outputs": [
        {
          "output_type": "execute_result",
          "data": {
            "text/html": [
              "<div>\n",
              "<style scoped>\n",
              "    .dataframe tbody tr th:only-of-type {\n",
              "        vertical-align: middle;\n",
              "    }\n",
              "\n",
              "    .dataframe tbody tr th {\n",
              "        vertical-align: top;\n",
              "    }\n",
              "\n",
              "    .dataframe thead th {\n",
              "        text-align: right;\n",
              "    }\n",
              "</style>\n",
              "<table border=\"1\" class=\"dataframe\">\n",
              "  <thead>\n",
              "    <tr style=\"text-align: right;\">\n",
              "      <th></th>\n",
              "      <th>TIMESTAMP</th>\n",
              "      <th>RECORD</th>\n",
              "      <th>BattV_Min</th>\n",
              "      <th>PTemp_C</th>\n",
              "      <th>WS_ms_S_WVT</th>\n",
              "      <th>WindDir_D1_WVT</th>\n",
              "      <th>WindDir_SD1_WVT</th>\n",
              "      <th>T109_C_Avg</th>\n",
              "      <th>T109_C_Max</th>\n",
              "      <th>T109_C_TMx</th>\n",
              "      <th>T109_C_Min</th>\n",
              "      <th>T109_C_TMn</th>\n",
              "      <th>SnowDepth_Max</th>\n",
              "      <th>SnowDepth_TMx</th>\n",
              "      <th>SnowDepth_Min</th>\n",
              "      <th>SnowDepth_TMn</th>\n",
              "      <th>Q_Max</th>\n",
              "      <th>Q_Min</th>\n",
              "      <th>Rain_mm_Tot</th>\n",
              "      <th>AirTC_Avg</th>\n",
              "      <th>AirTC_Max</th>\n",
              "      <th>AirTC_TMx</th>\n",
              "      <th>AirTC_Min</th>\n",
              "      <th>AirTC_TMn</th>\n",
              "      <th>RH_Max</th>\n",
              "      <th>RH_TMx</th>\n",
              "      <th>RH_Min</th>\n",
              "      <th>RH_TMn</th>\n",
              "      <th>BP_mmHg</th>\n",
              "    </tr>\n",
              "  </thead>\n",
              "  <tbody>\n",
              "    <tr>\n",
              "      <th>0</th>\n",
              "      <td>TS</td>\n",
              "      <td>RN</td>\n",
              "      <td>Volts</td>\n",
              "      <td>Deg C</td>\n",
              "      <td>meters/second</td>\n",
              "      <td>Deg</td>\n",
              "      <td>Deg</td>\n",
              "      <td>Deg C</td>\n",
              "      <td>Deg C</td>\n",
              "      <td>Deg C</td>\n",
              "      <td>Deg C</td>\n",
              "      <td>Deg C</td>\n",
              "      <td>NaN</td>\n",
              "      <td>NaN</td>\n",
              "      <td>NaN</td>\n",
              "      <td>NaN</td>\n",
              "      <td>NaN</td>\n",
              "      <td>NaN</td>\n",
              "      <td>mm</td>\n",
              "      <td>Deg C</td>\n",
              "      <td>Deg C</td>\n",
              "      <td>Deg C</td>\n",
              "      <td>Deg C</td>\n",
              "      <td>Deg C</td>\n",
              "      <td>%</td>\n",
              "      <td>%</td>\n",
              "      <td>%</td>\n",
              "      <td>%</td>\n",
              "      <td>mmHg</td>\n",
              "    </tr>\n",
              "    <tr>\n",
              "      <th>1</th>\n",
              "      <td>NaN</td>\n",
              "      <td>NaN</td>\n",
              "      <td>Min</td>\n",
              "      <td>Smp</td>\n",
              "      <td>WVc</td>\n",
              "      <td>WVc</td>\n",
              "      <td>WVc</td>\n",
              "      <td>Avg</td>\n",
              "      <td>Max</td>\n",
              "      <td>TMx</td>\n",
              "      <td>Min</td>\n",
              "      <td>TMn</td>\n",
              "      <td>Max</td>\n",
              "      <td>TMx</td>\n",
              "      <td>Min</td>\n",
              "      <td>TMn</td>\n",
              "      <td>Max</td>\n",
              "      <td>Min</td>\n",
              "      <td>Tot</td>\n",
              "      <td>Avg</td>\n",
              "      <td>Max</td>\n",
              "      <td>TMx</td>\n",
              "      <td>Min</td>\n",
              "      <td>TMn</td>\n",
              "      <td>Max</td>\n",
              "      <td>TMx</td>\n",
              "      <td>Min</td>\n",
              "      <td>TMn</td>\n",
              "      <td>Smp</td>\n",
              "    </tr>\n",
              "    <tr>\n",
              "      <th>2</th>\n",
              "      <td>2020-11-13 00:00:00</td>\n",
              "      <td>0</td>\n",
              "      <td>12.15</td>\n",
              "      <td>-2.483</td>\n",
              "      <td>5.414</td>\n",
              "      <td>203</td>\n",
              "      <td>19.27</td>\n",
              "      <td>NaN</td>\n",
              "      <td>-111.5</td>\n",
              "      <td>2020-11-12 16:53:50</td>\n",
              "      <td>-117.4</td>\n",
              "      <td>2020-11-12 16:54:00</td>\n",
              "      <td>1.917</td>\n",
              "      <td>2020-11-12 17:01:55</td>\n",
              "      <td>1.815</td>\n",
              "      <td>2020-11-12 23:53:45</td>\n",
              "      <td>387</td>\n",
              "      <td>177</td>\n",
              "      <td>0</td>\n",
              "      <td>-3.035</td>\n",
              "      <td>-1.322</td>\n",
              "      <td>2020-11-12 21:20:00</td>\n",
              "      <td>-4.675</td>\n",
              "      <td>2020-11-12 16:53:50</td>\n",
              "      <td>87.7</td>\n",
              "      <td>2020-11-12 16:57:35</td>\n",
              "      <td>45.16</td>\n",
              "      <td>2020-11-12 22:14:25</td>\n",
              "      <td>769</td>\n",
              "    </tr>\n",
              "    <tr>\n",
              "      <th>3</th>\n",
              "      <td>2020-11-14 00:00:00</td>\n",
              "      <td>1</td>\n",
              "      <td>12.15</td>\n",
              "      <td>1.075</td>\n",
              "      <td>8.21</td>\n",
              "      <td>209.1</td>\n",
              "      <td>31.98</td>\n",
              "      <td>NaN</td>\n",
              "      <td>NaN</td>\n",
              "      <td>1990-01-01 00:00:03.294967295</td>\n",
              "      <td>NaN</td>\n",
              "      <td>1990-01-01 00:00:03.294967295</td>\n",
              "      <td>2.73</td>\n",
              "      <td>2020-11-13 16:23:50</td>\n",
              "      <td>1.765</td>\n",
              "      <td>2020-11-13 16:29:35</td>\n",
              "      <td>487</td>\n",
              "      <td>0</td>\n",
              "      <td>0</td>\n",
              "      <td>1.062</td>\n",
              "      <td>5.038</td>\n",
              "      <td>2020-11-13 15:24:05</td>\n",
              "      <td>-3.541</td>\n",
              "      <td>2020-11-13 01:21:10</td>\n",
              "      <td>70.71</td>\n",
              "      <td>2020-11-13 23:04:05</td>\n",
              "      <td>36.46</td>\n",
              "      <td>2020-11-13 08:52:00</td>\n",
              "      <td>759.9</td>\n",
              "    </tr>\n",
              "    <tr>\n",
              "      <th>4</th>\n",
              "      <td>2020-11-15 00:00:00</td>\n",
              "      <td>2</td>\n",
              "      <td>12.32</td>\n",
              "      <td>-9.62</td>\n",
              "      <td>7.908</td>\n",
              "      <td>256</td>\n",
              "      <td>15.53</td>\n",
              "      <td>NaN</td>\n",
              "      <td>NaN</td>\n",
              "      <td>1990-01-01 00:00:03.294967295</td>\n",
              "      <td>NaN</td>\n",
              "      <td>1990-01-01 00:00:03.294967295</td>\n",
              "      <td>2.631</td>\n",
              "      <td>2020-11-14 17:23:10</td>\n",
              "      <td>1.721</td>\n",
              "      <td>2020-11-14 22:19:50</td>\n",
              "      <td>281</td>\n",
              "      <td>179</td>\n",
              "      <td>0</td>\n",
              "      <td>-2.415</td>\n",
              "      <td>1.622</td>\n",
              "      <td>2020-11-14 12:45:10</td>\n",
              "      <td>-10.81</td>\n",
              "      <td>2020-11-14 23:55:15</td>\n",
              "      <td>76.72</td>\n",
              "      <td>2020-11-14 21:15:05</td>\n",
              "      <td>40.41</td>\n",
              "      <td>2020-11-14 13:48:25</td>\n",
              "      <td>772.5</td>\n",
              "    </tr>\n",
              "  </tbody>\n",
              "</table>\n",
              "</div>"
            ],
            "text/plain": [
              "             TIMESTAMP RECORD BattV_Min  ... RH_Min               RH_TMn BP_mmHg\n",
              "0                   TS     RN     Volts  ...      %                    %    mmHg\n",
              "1                  NaN    NaN       Min  ...    Min                  TMn     Smp\n",
              "2  2020-11-13 00:00:00      0     12.15  ...  45.16  2020-11-12 22:14:25     769\n",
              "3  2020-11-14 00:00:00      1     12.15  ...  36.46  2020-11-13 08:52:00   759.9\n",
              "4  2020-11-15 00:00:00      2     12.32  ...  40.41  2020-11-14 13:48:25   772.5\n",
              "\n",
              "[5 rows x 29 columns]"
            ]
          },
          "metadata": {
            "tags": []
          },
          "execution_count": 5
        }
      ]
    },
    {
      "cell_type": "markdown",
      "metadata": {
        "id": "nVkZFqtWiNA9"
      },
      "source": [
        "The problem is that rows 0 & 1 are associated with null data. Lets get rid of those two rows. "
      ]
    },
    {
      "cell_type": "code",
      "metadata": {
        "id": "busdBkLHlcLg",
        "colab": {
          "base_uri": "https://localhost:8080/",
          "height": 398
        },
        "outputId": "843f29f1-a9c9-43a5-d28e-84ad7b71835f"
      },
      "source": [
        "df = df.drop([0,1]) # 0 & 1 represent the rows to drop.\n",
        "df.head() # make sure that the rows were eleminated.\n",
        "# What would happen if you ran this cell again?"
      ],
      "execution_count": 6,
      "outputs": [
        {
          "output_type": "execute_result",
          "data": {
            "text/html": [
              "<div>\n",
              "<style scoped>\n",
              "    .dataframe tbody tr th:only-of-type {\n",
              "        vertical-align: middle;\n",
              "    }\n",
              "\n",
              "    .dataframe tbody tr th {\n",
              "        vertical-align: top;\n",
              "    }\n",
              "\n",
              "    .dataframe thead th {\n",
              "        text-align: right;\n",
              "    }\n",
              "</style>\n",
              "<table border=\"1\" class=\"dataframe\">\n",
              "  <thead>\n",
              "    <tr style=\"text-align: right;\">\n",
              "      <th></th>\n",
              "      <th>TIMESTAMP</th>\n",
              "      <th>RECORD</th>\n",
              "      <th>BattV_Min</th>\n",
              "      <th>PTemp_C</th>\n",
              "      <th>WS_ms_S_WVT</th>\n",
              "      <th>WindDir_D1_WVT</th>\n",
              "      <th>WindDir_SD1_WVT</th>\n",
              "      <th>T109_C_Avg</th>\n",
              "      <th>T109_C_Max</th>\n",
              "      <th>T109_C_TMx</th>\n",
              "      <th>T109_C_Min</th>\n",
              "      <th>T109_C_TMn</th>\n",
              "      <th>SnowDepth_Max</th>\n",
              "      <th>SnowDepth_TMx</th>\n",
              "      <th>SnowDepth_Min</th>\n",
              "      <th>SnowDepth_TMn</th>\n",
              "      <th>Q_Max</th>\n",
              "      <th>Q_Min</th>\n",
              "      <th>Rain_mm_Tot</th>\n",
              "      <th>AirTC_Avg</th>\n",
              "      <th>AirTC_Max</th>\n",
              "      <th>AirTC_TMx</th>\n",
              "      <th>AirTC_Min</th>\n",
              "      <th>AirTC_TMn</th>\n",
              "      <th>RH_Max</th>\n",
              "      <th>RH_TMx</th>\n",
              "      <th>RH_Min</th>\n",
              "      <th>RH_TMn</th>\n",
              "      <th>BP_mmHg</th>\n",
              "    </tr>\n",
              "  </thead>\n",
              "  <tbody>\n",
              "    <tr>\n",
              "      <th>2</th>\n",
              "      <td>2020-11-13 00:00:00</td>\n",
              "      <td>0</td>\n",
              "      <td>12.15</td>\n",
              "      <td>-2.483</td>\n",
              "      <td>5.414</td>\n",
              "      <td>203</td>\n",
              "      <td>19.27</td>\n",
              "      <td>NaN</td>\n",
              "      <td>-111.5</td>\n",
              "      <td>2020-11-12 16:53:50</td>\n",
              "      <td>-117.4</td>\n",
              "      <td>2020-11-12 16:54:00</td>\n",
              "      <td>1.917</td>\n",
              "      <td>2020-11-12 17:01:55</td>\n",
              "      <td>1.815</td>\n",
              "      <td>2020-11-12 23:53:45</td>\n",
              "      <td>387</td>\n",
              "      <td>177</td>\n",
              "      <td>0</td>\n",
              "      <td>-3.035</td>\n",
              "      <td>-1.322</td>\n",
              "      <td>2020-11-12 21:20:00</td>\n",
              "      <td>-4.675</td>\n",
              "      <td>2020-11-12 16:53:50</td>\n",
              "      <td>87.7</td>\n",
              "      <td>2020-11-12 16:57:35</td>\n",
              "      <td>45.16</td>\n",
              "      <td>2020-11-12 22:14:25</td>\n",
              "      <td>769</td>\n",
              "    </tr>\n",
              "    <tr>\n",
              "      <th>3</th>\n",
              "      <td>2020-11-14 00:00:00</td>\n",
              "      <td>1</td>\n",
              "      <td>12.15</td>\n",
              "      <td>1.075</td>\n",
              "      <td>8.21</td>\n",
              "      <td>209.1</td>\n",
              "      <td>31.98</td>\n",
              "      <td>NaN</td>\n",
              "      <td>NaN</td>\n",
              "      <td>1990-01-01 00:00:03.294967295</td>\n",
              "      <td>NaN</td>\n",
              "      <td>1990-01-01 00:00:03.294967295</td>\n",
              "      <td>2.73</td>\n",
              "      <td>2020-11-13 16:23:50</td>\n",
              "      <td>1.765</td>\n",
              "      <td>2020-11-13 16:29:35</td>\n",
              "      <td>487</td>\n",
              "      <td>0</td>\n",
              "      <td>0</td>\n",
              "      <td>1.062</td>\n",
              "      <td>5.038</td>\n",
              "      <td>2020-11-13 15:24:05</td>\n",
              "      <td>-3.541</td>\n",
              "      <td>2020-11-13 01:21:10</td>\n",
              "      <td>70.71</td>\n",
              "      <td>2020-11-13 23:04:05</td>\n",
              "      <td>36.46</td>\n",
              "      <td>2020-11-13 08:52:00</td>\n",
              "      <td>759.9</td>\n",
              "    </tr>\n",
              "    <tr>\n",
              "      <th>4</th>\n",
              "      <td>2020-11-15 00:00:00</td>\n",
              "      <td>2</td>\n",
              "      <td>12.32</td>\n",
              "      <td>-9.62</td>\n",
              "      <td>7.908</td>\n",
              "      <td>256</td>\n",
              "      <td>15.53</td>\n",
              "      <td>NaN</td>\n",
              "      <td>NaN</td>\n",
              "      <td>1990-01-01 00:00:03.294967295</td>\n",
              "      <td>NaN</td>\n",
              "      <td>1990-01-01 00:00:03.294967295</td>\n",
              "      <td>2.631</td>\n",
              "      <td>2020-11-14 17:23:10</td>\n",
              "      <td>1.721</td>\n",
              "      <td>2020-11-14 22:19:50</td>\n",
              "      <td>281</td>\n",
              "      <td>179</td>\n",
              "      <td>0</td>\n",
              "      <td>-2.415</td>\n",
              "      <td>1.622</td>\n",
              "      <td>2020-11-14 12:45:10</td>\n",
              "      <td>-10.81</td>\n",
              "      <td>2020-11-14 23:55:15</td>\n",
              "      <td>76.72</td>\n",
              "      <td>2020-11-14 21:15:05</td>\n",
              "      <td>40.41</td>\n",
              "      <td>2020-11-14 13:48:25</td>\n",
              "      <td>772.5</td>\n",
              "    </tr>\n",
              "    <tr>\n",
              "      <th>5</th>\n",
              "      <td>2020-11-16 00:00:00</td>\n",
              "      <td>3</td>\n",
              "      <td>12.29</td>\n",
              "      <td>2.182</td>\n",
              "      <td>6.762</td>\n",
              "      <td>228.9</td>\n",
              "      <td>29.85</td>\n",
              "      <td>NaN</td>\n",
              "      <td>NaN</td>\n",
              "      <td>1990-01-01 00:00:03.294967295</td>\n",
              "      <td>NaN</td>\n",
              "      <td>1990-01-01 00:00:03.294967295</td>\n",
              "      <td>2.629</td>\n",
              "      <td>2020-11-15 16:47:50</td>\n",
              "      <td>1.698</td>\n",
              "      <td>2020-11-15 23:59:50</td>\n",
              "      <td>479</td>\n",
              "      <td>173</td>\n",
              "      <td>0</td>\n",
              "      <td>1.167</td>\n",
              "      <td>7.712</td>\n",
              "      <td>2020-11-15 12:52:35</td>\n",
              "      <td>-10.43</td>\n",
              "      <td>2020-11-15 00:00:20</td>\n",
              "      <td>75.03</td>\n",
              "      <td>2020-11-15 00:02:10</td>\n",
              "      <td>35.47</td>\n",
              "      <td>2020-11-15 12:32:50</td>\n",
              "      <td>774.3</td>\n",
              "    </tr>\n",
              "    <tr>\n",
              "      <th>6</th>\n",
              "      <td>2020-11-17 00:00:00</td>\n",
              "      <td>4</td>\n",
              "      <td>12.33</td>\n",
              "      <td>3.271</td>\n",
              "      <td>4.205</td>\n",
              "      <td>205.7</td>\n",
              "      <td>54.18</td>\n",
              "      <td>NaN</td>\n",
              "      <td>NaN</td>\n",
              "      <td>1990-01-01 00:00:03.294967295</td>\n",
              "      <td>NaN</td>\n",
              "      <td>1990-01-01 00:00:03.294967295</td>\n",
              "      <td>1.705</td>\n",
              "      <td>2020-11-16 02:36:50</td>\n",
              "      <td>1.663</td>\n",
              "      <td>2020-11-16 23:57:05</td>\n",
              "      <td>459</td>\n",
              "      <td>171</td>\n",
              "      <td>0</td>\n",
              "      <td>3.261</td>\n",
              "      <td>6.854</td>\n",
              "      <td>2020-11-16 13:57:15</td>\n",
              "      <td>-1.353</td>\n",
              "      <td>2020-11-16 07:22:25</td>\n",
              "      <td>73.1</td>\n",
              "      <td>2020-11-16 18:56:05</td>\n",
              "      <td>39.27</td>\n",
              "      <td>2020-11-16 13:58:00</td>\n",
              "      <td>775.5</td>\n",
              "    </tr>\n",
              "  </tbody>\n",
              "</table>\n",
              "</div>"
            ],
            "text/plain": [
              "             TIMESTAMP RECORD BattV_Min  ... RH_Min               RH_TMn BP_mmHg\n",
              "2  2020-11-13 00:00:00      0     12.15  ...  45.16  2020-11-12 22:14:25     769\n",
              "3  2020-11-14 00:00:00      1     12.15  ...  36.46  2020-11-13 08:52:00   759.9\n",
              "4  2020-11-15 00:00:00      2     12.32  ...  40.41  2020-11-14 13:48:25   772.5\n",
              "5  2020-11-16 00:00:00      3     12.29  ...  35.47  2020-11-15 12:32:50   774.3\n",
              "6  2020-11-17 00:00:00      4     12.33  ...  39.27  2020-11-16 13:58:00   775.5\n",
              "\n",
              "[5 rows x 29 columns]"
            ]
          },
          "metadata": {
            "tags": []
          },
          "execution_count": 6
        }
      ]
    },
    {
      "cell_type": "code",
      "metadata": {
        "id": "9gidqoG86bPi",
        "colab": {
          "base_uri": "https://localhost:8080/"
        },
        "outputId": "e21e6b77-59a1-4905-a289-e890f4a02180"
      },
      "source": [
        "df.dtypes"
      ],
      "execution_count": 7,
      "outputs": [
        {
          "output_type": "execute_result",
          "data": {
            "text/plain": [
              "TIMESTAMP          object\n",
              "RECORD             object\n",
              "BattV_Min          object\n",
              "PTemp_C            object\n",
              "WS_ms_S_WVT        object\n",
              "WindDir_D1_WVT     object\n",
              "WindDir_SD1_WVT    object\n",
              "T109_C_Avg         object\n",
              "T109_C_Max         object\n",
              "T109_C_TMx         object\n",
              "T109_C_Min         object\n",
              "T109_C_TMn         object\n",
              "SnowDepth_Max      object\n",
              "SnowDepth_TMx      object\n",
              "SnowDepth_Min      object\n",
              "SnowDepth_TMn      object\n",
              "Q_Max              object\n",
              "Q_Min              object\n",
              "Rain_mm_Tot        object\n",
              "AirTC_Avg          object\n",
              "AirTC_Max          object\n",
              "AirTC_TMx          object\n",
              "AirTC_Min          object\n",
              "AirTC_TMn          object\n",
              "RH_Max             object\n",
              "RH_TMx             object\n",
              "RH_Min             object\n",
              "RH_TMn             object\n",
              "BP_mmHg            object\n",
              "dtype: object"
            ]
          },
          "metadata": {
            "tags": []
          },
          "execution_count": 7
        }
      ]
    },
    {
      "cell_type": "code",
      "metadata": {
        "id": "Dk5MiBrn6-f0",
        "colab": {
          "base_uri": "https://localhost:8080/"
        },
        "outputId": "8e6deb89-a0c1-4eb7-d80d-066943e63ca6"
      },
      "source": [
        "# using dictionary to convert specific columns \n",
        "convert_dict = {'BattV_Min': float, \n",
        "'PTemp_C': float,    \n",
        "'WS_ms_S_WVT': float,\n",
        "'WindDir_D1_WVT': float,      \n",
        "'WindDir_SD1_WVT': float, \n",
        "'T109_C_Avg': float,     \n",
        "'T109_C_Max': float,        \n",
        "'T109_C_Min': float,\n",
        "'SnowDepth_Max': float,      \n",
        "'SnowDepth_Min': float,      \n",
        "'Q_Max': float,     \n",
        "'Q_Min': float,     \n",
        "'Rain_mm_Tot': float,        \n",
        "'AirTC_Avg': float, \n",
        "'AirTC_Max': float, \n",
        "'AirTC_Min': float, \n",
        "'RH_Max': float,    \n",
        "'RH_Min': float,    \n",
        "'BP_mmHg': float\n",
        "               } \n",
        "  \n",
        "df = df.astype(convert_dict) \n",
        "print(df.dtypes) "
      ],
      "execution_count": 8,
      "outputs": [
        {
          "output_type": "stream",
          "text": [
            "TIMESTAMP           object\n",
            "RECORD              object\n",
            "BattV_Min          float64\n",
            "PTemp_C            float64\n",
            "WS_ms_S_WVT        float64\n",
            "WindDir_D1_WVT     float64\n",
            "WindDir_SD1_WVT    float64\n",
            "T109_C_Avg         float64\n",
            "T109_C_Max         float64\n",
            "T109_C_TMx          object\n",
            "T109_C_Min         float64\n",
            "T109_C_TMn          object\n",
            "SnowDepth_Max      float64\n",
            "SnowDepth_TMx       object\n",
            "SnowDepth_Min      float64\n",
            "SnowDepth_TMn       object\n",
            "Q_Max              float64\n",
            "Q_Min              float64\n",
            "Rain_mm_Tot        float64\n",
            "AirTC_Avg          float64\n",
            "AirTC_Max          float64\n",
            "AirTC_TMx           object\n",
            "AirTC_Min          float64\n",
            "AirTC_TMn           object\n",
            "RH_Max             float64\n",
            "RH_TMx              object\n",
            "RH_Min             float64\n",
            "RH_TMn              object\n",
            "BP_mmHg            float64\n",
            "dtype: object\n"
          ],
          "name": "stdout"
        }
      ]
    },
    {
      "cell_type": "code",
      "metadata": {
        "id": "5jFVWfs36QWj",
        "colab": {
          "base_uri": "https://localhost:8080/"
        },
        "outputId": "ddbca0fe-949e-4c86-adab-d469fdd4ea5e"
      },
      "source": [
        "# convert the 'TIMESTAMP' column from an object to datetime format\n",
        "#df['TIMESTAMP']= pd.to_datetime(df['TIMESTAMP'])\n",
        "df[['TIMESTAMP','T109_C_TMx','T109_C_TMn','SnowDepth_TMx','SnowDepth_TMn','AirTC_TMx','AirTC_TMn','RH_TMx','RH_TMn']] = df[['TIMESTAMP','T109_C_TMx','T109_C_TMn','SnowDepth_TMx','SnowDepth_TMn','AirTC_TMx','AirTC_TMn','RH_TMx','RH_TMn']].apply(pd.to_datetime)\n",
        " \n",
        "# Check the format of 'Date' column\n",
        "df.info()"
      ],
      "execution_count": 9,
      "outputs": [
        {
          "output_type": "stream",
          "text": [
            "<class 'pandas.core.frame.DataFrame'>\n",
            "Int64Index: 141 entries, 2 to 142\n",
            "Data columns (total 29 columns):\n",
            " #   Column           Non-Null Count  Dtype         \n",
            "---  ------           --------------  -----         \n",
            " 0   TIMESTAMP        141 non-null    datetime64[ns]\n",
            " 1   RECORD           141 non-null    object        \n",
            " 2   BattV_Min        141 non-null    float64       \n",
            " 3   PTemp_C          141 non-null    float64       \n",
            " 4   WS_ms_S_WVT      141 non-null    float64       \n",
            " 5   WindDir_D1_WVT   141 non-null    float64       \n",
            " 6   WindDir_SD1_WVT  141 non-null    float64       \n",
            " 7   T109_C_Avg       0 non-null      float64       \n",
            " 8   T109_C_Max       11 non-null     float64       \n",
            " 9   T109_C_TMx       141 non-null    datetime64[ns]\n",
            " 10  T109_C_Min       11 non-null     float64       \n",
            " 11  T109_C_TMn       141 non-null    datetime64[ns]\n",
            " 12  SnowDepth_Max    141 non-null    float64       \n",
            " 13  SnowDepth_TMx    141 non-null    datetime64[ns]\n",
            " 14  SnowDepth_Min    141 non-null    float64       \n",
            " 15  SnowDepth_TMn    141 non-null    datetime64[ns]\n",
            " 16  Q_Max            141 non-null    float64       \n",
            " 17  Q_Min            141 non-null    float64       \n",
            " 18  Rain_mm_Tot      141 non-null    float64       \n",
            " 19  AirTC_Avg        141 non-null    float64       \n",
            " 20  AirTC_Max        141 non-null    float64       \n",
            " 21  AirTC_TMx        141 non-null    datetime64[ns]\n",
            " 22  AirTC_Min        141 non-null    float64       \n",
            " 23  AirTC_TMn        141 non-null    datetime64[ns]\n",
            " 24  RH_Max           141 non-null    float64       \n",
            " 25  RH_TMx           141 non-null    datetime64[ns]\n",
            " 26  RH_Min           141 non-null    float64       \n",
            " 27  RH_TMn           141 non-null    datetime64[ns]\n",
            " 28  BP_mmHg          141 non-null    float64       \n",
            "dtypes: datetime64[ns](9), float64(19), object(1)\n",
            "memory usage: 33.0+ KB\n"
          ],
          "name": "stdout"
        }
      ]
    },
    {
      "cell_type": "code",
      "metadata": {
        "colab": {
          "base_uri": "https://localhost:8080/",
          "height": 787
        },
        "id": "mRmDlFZE4nxe",
        "outputId": "0f092864-8853-4fba-ff77-b04cf7f430bb"
      },
      "source": [
        "df.drop(columns=['BattV_Min',\n",
        "                 'T109_C_Avg',\n",
        "                 'T109_C_Max',\n",
        "                 'T109_C_Min',\n",
        "                 'T109_C_TMx',\n",
        "                 'T109_C_TMn',\n",
        "                 'Rain_mm_Tot'])"
      ],
      "execution_count": 10,
      "outputs": [
        {
          "output_type": "execute_result",
          "data": {
            "text/html": [
              "<div>\n",
              "<style scoped>\n",
              "    .dataframe tbody tr th:only-of-type {\n",
              "        vertical-align: middle;\n",
              "    }\n",
              "\n",
              "    .dataframe tbody tr th {\n",
              "        vertical-align: top;\n",
              "    }\n",
              "\n",
              "    .dataframe thead th {\n",
              "        text-align: right;\n",
              "    }\n",
              "</style>\n",
              "<table border=\"1\" class=\"dataframe\">\n",
              "  <thead>\n",
              "    <tr style=\"text-align: right;\">\n",
              "      <th></th>\n",
              "      <th>TIMESTAMP</th>\n",
              "      <th>RECORD</th>\n",
              "      <th>PTemp_C</th>\n",
              "      <th>WS_ms_S_WVT</th>\n",
              "      <th>WindDir_D1_WVT</th>\n",
              "      <th>WindDir_SD1_WVT</th>\n",
              "      <th>SnowDepth_Max</th>\n",
              "      <th>SnowDepth_TMx</th>\n",
              "      <th>SnowDepth_Min</th>\n",
              "      <th>SnowDepth_TMn</th>\n",
              "      <th>Q_Max</th>\n",
              "      <th>Q_Min</th>\n",
              "      <th>AirTC_Avg</th>\n",
              "      <th>AirTC_Max</th>\n",
              "      <th>AirTC_TMx</th>\n",
              "      <th>AirTC_Min</th>\n",
              "      <th>AirTC_TMn</th>\n",
              "      <th>RH_Max</th>\n",
              "      <th>RH_TMx</th>\n",
              "      <th>RH_Min</th>\n",
              "      <th>RH_TMn</th>\n",
              "      <th>BP_mmHg</th>\n",
              "    </tr>\n",
              "  </thead>\n",
              "  <tbody>\n",
              "    <tr>\n",
              "      <th>2</th>\n",
              "      <td>2020-11-13</td>\n",
              "      <td>0</td>\n",
              "      <td>-2.483</td>\n",
              "      <td>5.414</td>\n",
              "      <td>203.0</td>\n",
              "      <td>19.27</td>\n",
              "      <td>1.917</td>\n",
              "      <td>2020-11-12 17:01:55</td>\n",
              "      <td>1.815</td>\n",
              "      <td>2020-11-12 23:53:45</td>\n",
              "      <td>387.0</td>\n",
              "      <td>177.0</td>\n",
              "      <td>-3.035</td>\n",
              "      <td>-1.322</td>\n",
              "      <td>2020-11-12 21:20:00</td>\n",
              "      <td>-4.675</td>\n",
              "      <td>2020-11-12 16:53:50</td>\n",
              "      <td>87.70</td>\n",
              "      <td>2020-11-12 16:57:35</td>\n",
              "      <td>45.16</td>\n",
              "      <td>2020-11-12 22:14:25</td>\n",
              "      <td>769.0</td>\n",
              "    </tr>\n",
              "    <tr>\n",
              "      <th>3</th>\n",
              "      <td>2020-11-14</td>\n",
              "      <td>1</td>\n",
              "      <td>1.075</td>\n",
              "      <td>8.210</td>\n",
              "      <td>209.1</td>\n",
              "      <td>31.98</td>\n",
              "      <td>2.730</td>\n",
              "      <td>2020-11-13 16:23:50</td>\n",
              "      <td>1.765</td>\n",
              "      <td>2020-11-13 16:29:35</td>\n",
              "      <td>487.0</td>\n",
              "      <td>0.0</td>\n",
              "      <td>1.062</td>\n",
              "      <td>5.038</td>\n",
              "      <td>2020-11-13 15:24:05</td>\n",
              "      <td>-3.541</td>\n",
              "      <td>2020-11-13 01:21:10</td>\n",
              "      <td>70.71</td>\n",
              "      <td>2020-11-13 23:04:05</td>\n",
              "      <td>36.46</td>\n",
              "      <td>2020-11-13 08:52:00</td>\n",
              "      <td>759.9</td>\n",
              "    </tr>\n",
              "    <tr>\n",
              "      <th>4</th>\n",
              "      <td>2020-11-15</td>\n",
              "      <td>2</td>\n",
              "      <td>-9.620</td>\n",
              "      <td>7.908</td>\n",
              "      <td>256.0</td>\n",
              "      <td>15.53</td>\n",
              "      <td>2.631</td>\n",
              "      <td>2020-11-14 17:23:10</td>\n",
              "      <td>1.721</td>\n",
              "      <td>2020-11-14 22:19:50</td>\n",
              "      <td>281.0</td>\n",
              "      <td>179.0</td>\n",
              "      <td>-2.415</td>\n",
              "      <td>1.622</td>\n",
              "      <td>2020-11-14 12:45:10</td>\n",
              "      <td>-10.810</td>\n",
              "      <td>2020-11-14 23:55:15</td>\n",
              "      <td>76.72</td>\n",
              "      <td>2020-11-14 21:15:05</td>\n",
              "      <td>40.41</td>\n",
              "      <td>2020-11-14 13:48:25</td>\n",
              "      <td>772.5</td>\n",
              "    </tr>\n",
              "    <tr>\n",
              "      <th>5</th>\n",
              "      <td>2020-11-16</td>\n",
              "      <td>3</td>\n",
              "      <td>2.182</td>\n",
              "      <td>6.762</td>\n",
              "      <td>228.9</td>\n",
              "      <td>29.85</td>\n",
              "      <td>2.629</td>\n",
              "      <td>2020-11-15 16:47:50</td>\n",
              "      <td>1.698</td>\n",
              "      <td>2020-11-15 23:59:50</td>\n",
              "      <td>479.0</td>\n",
              "      <td>173.0</td>\n",
              "      <td>1.167</td>\n",
              "      <td>7.712</td>\n",
              "      <td>2020-11-15 12:52:35</td>\n",
              "      <td>-10.430</td>\n",
              "      <td>2020-11-15 00:00:20</td>\n",
              "      <td>75.03</td>\n",
              "      <td>2020-11-15 00:02:10</td>\n",
              "      <td>35.47</td>\n",
              "      <td>2020-11-15 12:32:50</td>\n",
              "      <td>774.3</td>\n",
              "    </tr>\n",
              "    <tr>\n",
              "      <th>6</th>\n",
              "      <td>2020-11-17</td>\n",
              "      <td>4</td>\n",
              "      <td>3.271</td>\n",
              "      <td>4.205</td>\n",
              "      <td>205.7</td>\n",
              "      <td>54.18</td>\n",
              "      <td>1.705</td>\n",
              "      <td>2020-11-16 02:36:50</td>\n",
              "      <td>1.663</td>\n",
              "      <td>2020-11-16 23:57:05</td>\n",
              "      <td>459.0</td>\n",
              "      <td>171.0</td>\n",
              "      <td>3.261</td>\n",
              "      <td>6.854</td>\n",
              "      <td>2020-11-16 13:57:15</td>\n",
              "      <td>-1.353</td>\n",
              "      <td>2020-11-16 07:22:25</td>\n",
              "      <td>73.10</td>\n",
              "      <td>2020-11-16 18:56:05</td>\n",
              "      <td>39.27</td>\n",
              "      <td>2020-11-16 13:58:00</td>\n",
              "      <td>775.5</td>\n",
              "    </tr>\n",
              "    <tr>\n",
              "      <th>...</th>\n",
              "      <td>...</td>\n",
              "      <td>...</td>\n",
              "      <td>...</td>\n",
              "      <td>...</td>\n",
              "      <td>...</td>\n",
              "      <td>...</td>\n",
              "      <td>...</td>\n",
              "      <td>...</td>\n",
              "      <td>...</td>\n",
              "      <td>...</td>\n",
              "      <td>...</td>\n",
              "      <td>...</td>\n",
              "      <td>...</td>\n",
              "      <td>...</td>\n",
              "      <td>...</td>\n",
              "      <td>...</td>\n",
              "      <td>...</td>\n",
              "      <td>...</td>\n",
              "      <td>...</td>\n",
              "      <td>...</td>\n",
              "      <td>...</td>\n",
              "      <td>...</td>\n",
              "    </tr>\n",
              "    <tr>\n",
              "      <th>138</th>\n",
              "      <td>2021-03-29</td>\n",
              "      <td>136</td>\n",
              "      <td>10.000</td>\n",
              "      <td>6.701</td>\n",
              "      <td>230.8</td>\n",
              "      <td>23.55</td>\n",
              "      <td>2.730</td>\n",
              "      <td>2021-03-28 00:00:25</td>\n",
              "      <td>-0.071</td>\n",
              "      <td>2021-03-28 09:30:10</td>\n",
              "      <td>457.0</td>\n",
              "      <td>0.0</td>\n",
              "      <td>11.910</td>\n",
              "      <td>19.120</td>\n",
              "      <td>2021-03-28 16:56:20</td>\n",
              "      <td>4.330</td>\n",
              "      <td>2021-03-28 06:36:40</td>\n",
              "      <td>48.69</td>\n",
              "      <td>2021-03-28 00:42:50</td>\n",
              "      <td>13.57</td>\n",
              "      <td>2021-03-28 17:09:35</td>\n",
              "      <td>757.7</td>\n",
              "    </tr>\n",
              "    <tr>\n",
              "      <th>139</th>\n",
              "      <td>2021-03-30</td>\n",
              "      <td>137</td>\n",
              "      <td>-9.390</td>\n",
              "      <td>9.040</td>\n",
              "      <td>286.6</td>\n",
              "      <td>24.76</td>\n",
              "      <td>2.730</td>\n",
              "      <td>2021-03-29 00:19:10</td>\n",
              "      <td>-0.050</td>\n",
              "      <td>2021-03-29 00:19:20</td>\n",
              "      <td>433.0</td>\n",
              "      <td>0.0</td>\n",
              "      <td>-4.004</td>\n",
              "      <td>13.410</td>\n",
              "      <td>2021-03-29 00:37:15</td>\n",
              "      <td>-10.770</td>\n",
              "      <td>2021-03-29 23:01:30</td>\n",
              "      <td>94.90</td>\n",
              "      <td>2021-03-29 03:55:45</td>\n",
              "      <td>25.96</td>\n",
              "      <td>2021-03-29 00:37:05</td>\n",
              "      <td>774.1</td>\n",
              "    </tr>\n",
              "    <tr>\n",
              "      <th>140</th>\n",
              "      <td>2021-03-31</td>\n",
              "      <td>138</td>\n",
              "      <td>-8.600</td>\n",
              "      <td>4.515</td>\n",
              "      <td>283.0</td>\n",
              "      <td>29.38</td>\n",
              "      <td>2.730</td>\n",
              "      <td>2021-03-30 01:21:05</td>\n",
              "      <td>-0.053</td>\n",
              "      <td>2021-03-30 19:08:50</td>\n",
              "      <td>414.0</td>\n",
              "      <td>0.0</td>\n",
              "      <td>-7.581</td>\n",
              "      <td>-1.697</td>\n",
              "      <td>2021-03-30 16:07:05</td>\n",
              "      <td>-12.410</td>\n",
              "      <td>2021-03-30 04:49:35</td>\n",
              "      <td>90.70</td>\n",
              "      <td>2021-03-30 03:52:10</td>\n",
              "      <td>45.47</td>\n",
              "      <td>2021-03-30 15:57:00</td>\n",
              "      <td>779.5</td>\n",
              "    </tr>\n",
              "    <tr>\n",
              "      <th>141</th>\n",
              "      <td>2021-04-01</td>\n",
              "      <td>139</td>\n",
              "      <td>-0.436</td>\n",
              "      <td>2.828</td>\n",
              "      <td>225.7</td>\n",
              "      <td>44.31</td>\n",
              "      <td>2.730</td>\n",
              "      <td>2021-03-31 08:22:50</td>\n",
              "      <td>-0.053</td>\n",
              "      <td>2021-03-31 16:26:25</td>\n",
              "      <td>528.0</td>\n",
              "      <td>0.0</td>\n",
              "      <td>0.683</td>\n",
              "      <td>10.670</td>\n",
              "      <td>2021-03-31 17:27:00</td>\n",
              "      <td>-8.710</td>\n",
              "      <td>2021-03-31 02:54:35</td>\n",
              "      <td>76.76</td>\n",
              "      <td>2021-03-31 02:55:25</td>\n",
              "      <td>28.96</td>\n",
              "      <td>2021-03-31 14:52:15</td>\n",
              "      <td>777.2</td>\n",
              "    </tr>\n",
              "    <tr>\n",
              "      <th>142</th>\n",
              "      <td>2021-04-02</td>\n",
              "      <td>140</td>\n",
              "      <td>4.256</td>\n",
              "      <td>6.037</td>\n",
              "      <td>213.5</td>\n",
              "      <td>15.06</td>\n",
              "      <td>2.730</td>\n",
              "      <td>2021-04-01 08:23:50</td>\n",
              "      <td>-0.049</td>\n",
              "      <td>2021-04-01 12:45:20</td>\n",
              "      <td>398.0</td>\n",
              "      <td>0.0</td>\n",
              "      <td>10.570</td>\n",
              "      <td>21.330</td>\n",
              "      <td>2021-04-01 15:32:30</td>\n",
              "      <td>0.873</td>\n",
              "      <td>2021-04-01 00:00:15</td>\n",
              "      <td>48.62</td>\n",
              "      <td>2021-04-01 00:01:00</td>\n",
              "      <td>8.75</td>\n",
              "      <td>2021-04-01 15:24:25</td>\n",
              "      <td>770.5</td>\n",
              "    </tr>\n",
              "  </tbody>\n",
              "</table>\n",
              "<p>141 rows × 22 columns</p>\n",
              "</div>"
            ],
            "text/plain": [
              "     TIMESTAMP RECORD  PTemp_C  ...  RH_Min              RH_TMn  BP_mmHg\n",
              "2   2020-11-13      0   -2.483  ...   45.16 2020-11-12 22:14:25    769.0\n",
              "3   2020-11-14      1    1.075  ...   36.46 2020-11-13 08:52:00    759.9\n",
              "4   2020-11-15      2   -9.620  ...   40.41 2020-11-14 13:48:25    772.5\n",
              "5   2020-11-16      3    2.182  ...   35.47 2020-11-15 12:32:50    774.3\n",
              "6   2020-11-17      4    3.271  ...   39.27 2020-11-16 13:58:00    775.5\n",
              "..         ...    ...      ...  ...     ...                 ...      ...\n",
              "138 2021-03-29    136   10.000  ...   13.57 2021-03-28 17:09:35    757.7\n",
              "139 2021-03-30    137   -9.390  ...   25.96 2021-03-29 00:37:05    774.1\n",
              "140 2021-03-31    138   -8.600  ...   45.47 2021-03-30 15:57:00    779.5\n",
              "141 2021-04-01    139   -0.436  ...   28.96 2021-03-31 14:52:15    777.2\n",
              "142 2021-04-02    140    4.256  ...    8.75 2021-04-01 15:24:25    770.5\n",
              "\n",
              "[141 rows x 22 columns]"
            ]
          },
          "metadata": {
            "tags": []
          },
          "execution_count": 10
        }
      ]
    },
    {
      "cell_type": "code",
      "metadata": {
        "id": "k2ZKpyF58rFI"
      },
      "source": [
        "# create a tmp df to revert to.\n",
        "df_tmp = df"
      ],
      "execution_count": 11,
      "outputs": []
    },
    {
      "cell_type": "code",
      "metadata": {
        "id": "59s72LHtTEmf"
      },
      "source": [
        "## Temperature"
      ],
      "execution_count": null,
      "outputs": []
    },
    {
      "cell_type": "markdown",
      "metadata": {
        "id": "BDEcMlwaMv1O"
      },
      "source": [
        "## Temperature"
      ]
    },
    {
      "cell_type": "markdown",
      "metadata": {
        "id": "qSF23PLFTLPF"
      },
      "source": [
        "## Snow depth"
      ]
    },
    {
      "cell_type": "code",
      "metadata": {
        "id": "5e_Fq_wxTRJM"
      },
      "source": [
        ""
      ],
      "execution_count": null,
      "outputs": []
    },
    {
      "cell_type": "code",
      "metadata": {
        "id": "ALdj_AlW17Bu",
        "colab": {
          "base_uri": "https://localhost:8080/",
          "height": 379
        },
        "outputId": "4d4f14e8-656b-4394-932a-5fa84e9868ea"
      },
      "source": [
        "# Find the outliers in snow depth min\n",
        "\n",
        "from scipy import stats\n",
        "import numpy as np\n",
        "\n",
        "z = np.abs(stats.zscore(df))\n",
        "print(z)\n",
        "\n",
        "#df.SnowDepth_Min[df.SnowDepth_Min < 0] = 0"
      ],
      "execution_count": 12,
      "outputs": [
        {
          "output_type": "error",
          "ename": "TypeError",
          "evalue": "ignored",
          "traceback": [
            "\u001b[0;31m---------------------------------------------------------------------------\u001b[0m",
            "\u001b[0;31mTypeError\u001b[0m                                 Traceback (most recent call last)",
            "\u001b[0;32m<ipython-input-12-8c1609dcf5a2>\u001b[0m in \u001b[0;36m<module>\u001b[0;34m()\u001b[0m\n\u001b[1;32m      4\u001b[0m \u001b[0;32mimport\u001b[0m \u001b[0mnumpy\u001b[0m \u001b[0;32mas\u001b[0m \u001b[0mnp\u001b[0m\u001b[0;34m\u001b[0m\u001b[0;34m\u001b[0m\u001b[0m\n\u001b[1;32m      5\u001b[0m \u001b[0;34m\u001b[0m\u001b[0m\n\u001b[0;32m----> 6\u001b[0;31m \u001b[0mz\u001b[0m \u001b[0;34m=\u001b[0m \u001b[0mnp\u001b[0m\u001b[0;34m.\u001b[0m\u001b[0mabs\u001b[0m\u001b[0;34m(\u001b[0m\u001b[0mstats\u001b[0m\u001b[0;34m.\u001b[0m\u001b[0mzscore\u001b[0m\u001b[0;34m(\u001b[0m\u001b[0mdf\u001b[0m\u001b[0;34m)\u001b[0m\u001b[0;34m)\u001b[0m\u001b[0;34m\u001b[0m\u001b[0;34m\u001b[0m\u001b[0m\n\u001b[0m\u001b[1;32m      7\u001b[0m \u001b[0mprint\u001b[0m\u001b[0;34m(\u001b[0m\u001b[0mz\u001b[0m\u001b[0;34m)\u001b[0m\u001b[0;34m\u001b[0m\u001b[0;34m\u001b[0m\u001b[0m\n\u001b[1;32m      8\u001b[0m \u001b[0;34m\u001b[0m\u001b[0m\n",
            "\u001b[0;32m/usr/local/lib/python3.7/dist-packages/scipy/stats/stats.py\u001b[0m in \u001b[0;36mzscore\u001b[0;34m(a, axis, ddof, nan_policy)\u001b[0m\n\u001b[1;32m   2414\u001b[0m         \u001b[0msstd\u001b[0m \u001b[0;34m=\u001b[0m \u001b[0mnp\u001b[0m\u001b[0;34m.\u001b[0m\u001b[0mnanstd\u001b[0m\u001b[0;34m(\u001b[0m\u001b[0ma\u001b[0m\u001b[0;34m=\u001b[0m\u001b[0ma\u001b[0m\u001b[0;34m,\u001b[0m \u001b[0maxis\u001b[0m\u001b[0;34m=\u001b[0m\u001b[0maxis\u001b[0m\u001b[0;34m,\u001b[0m \u001b[0mddof\u001b[0m\u001b[0;34m=\u001b[0m\u001b[0mddof\u001b[0m\u001b[0;34m,\u001b[0m \u001b[0mkeepdims\u001b[0m\u001b[0;34m=\u001b[0m\u001b[0;32mTrue\u001b[0m\u001b[0;34m)\u001b[0m\u001b[0;34m\u001b[0m\u001b[0;34m\u001b[0m\u001b[0m\n\u001b[1;32m   2415\u001b[0m     \u001b[0;32melse\u001b[0m\u001b[0;34m:\u001b[0m\u001b[0;34m\u001b[0m\u001b[0;34m\u001b[0m\u001b[0m\n\u001b[0;32m-> 2416\u001b[0;31m         \u001b[0mmns\u001b[0m \u001b[0;34m=\u001b[0m \u001b[0ma\u001b[0m\u001b[0;34m.\u001b[0m\u001b[0mmean\u001b[0m\u001b[0;34m(\u001b[0m\u001b[0maxis\u001b[0m\u001b[0;34m=\u001b[0m\u001b[0maxis\u001b[0m\u001b[0;34m,\u001b[0m \u001b[0mkeepdims\u001b[0m\u001b[0;34m=\u001b[0m\u001b[0;32mTrue\u001b[0m\u001b[0;34m)\u001b[0m\u001b[0;34m\u001b[0m\u001b[0;34m\u001b[0m\u001b[0m\n\u001b[0m\u001b[1;32m   2417\u001b[0m         \u001b[0msstd\u001b[0m \u001b[0;34m=\u001b[0m \u001b[0ma\u001b[0m\u001b[0;34m.\u001b[0m\u001b[0mstd\u001b[0m\u001b[0;34m(\u001b[0m\u001b[0maxis\u001b[0m\u001b[0;34m=\u001b[0m\u001b[0maxis\u001b[0m\u001b[0;34m,\u001b[0m \u001b[0mddof\u001b[0m\u001b[0;34m=\u001b[0m\u001b[0mddof\u001b[0m\u001b[0;34m,\u001b[0m \u001b[0mkeepdims\u001b[0m\u001b[0;34m=\u001b[0m\u001b[0;32mTrue\u001b[0m\u001b[0;34m)\u001b[0m\u001b[0;34m\u001b[0m\u001b[0;34m\u001b[0m\u001b[0m\n\u001b[1;32m   2418\u001b[0m \u001b[0;34m\u001b[0m\u001b[0m\n",
            "\u001b[0;32m/usr/local/lib/python3.7/dist-packages/numpy/core/_methods.py\u001b[0m in \u001b[0;36m_mean\u001b[0;34m(a, axis, dtype, out, keepdims)\u001b[0m\n\u001b[1;32m    158\u001b[0m             \u001b[0mis_float16_result\u001b[0m \u001b[0;34m=\u001b[0m \u001b[0;32mTrue\u001b[0m\u001b[0;34m\u001b[0m\u001b[0;34m\u001b[0m\u001b[0m\n\u001b[1;32m    159\u001b[0m \u001b[0;34m\u001b[0m\u001b[0m\n\u001b[0;32m--> 160\u001b[0;31m     \u001b[0mret\u001b[0m \u001b[0;34m=\u001b[0m \u001b[0mumr_sum\u001b[0m\u001b[0;34m(\u001b[0m\u001b[0marr\u001b[0m\u001b[0;34m,\u001b[0m \u001b[0maxis\u001b[0m\u001b[0;34m,\u001b[0m \u001b[0mdtype\u001b[0m\u001b[0;34m,\u001b[0m \u001b[0mout\u001b[0m\u001b[0;34m,\u001b[0m \u001b[0mkeepdims\u001b[0m\u001b[0;34m)\u001b[0m\u001b[0;34m\u001b[0m\u001b[0;34m\u001b[0m\u001b[0m\n\u001b[0m\u001b[1;32m    161\u001b[0m     \u001b[0;32mif\u001b[0m \u001b[0misinstance\u001b[0m\u001b[0;34m(\u001b[0m\u001b[0mret\u001b[0m\u001b[0;34m,\u001b[0m \u001b[0mmu\u001b[0m\u001b[0;34m.\u001b[0m\u001b[0mndarray\u001b[0m\u001b[0;34m)\u001b[0m\u001b[0;34m:\u001b[0m\u001b[0;34m\u001b[0m\u001b[0;34m\u001b[0m\u001b[0m\n\u001b[1;32m    162\u001b[0m         ret = um.true_divide(\n",
            "\u001b[0;31mTypeError\u001b[0m: unsupported operand type(s) for +: 'Timestamp' and 'Timestamp'"
          ]
        }
      ]
    },
    {
      "cell_type": "code",
      "metadata": {
        "id": "QY2H1NQY3F-Q"
      },
      "source": [
        "threshold = 3\n",
        "print(np.where(z > 3))"
      ],
      "execution_count": null,
      "outputs": []
    },
    {
      "cell_type": "markdown",
      "metadata": {
        "id": "SNOsEeFB_IgY"
      },
      "source": [
        "Seaborn is a Python data visualization library based on matplotlib. It provides a high-level interface for drawing attractive and informative statistical graphics. You will add this package to your notebook."
      ]
    },
    {
      "cell_type": "markdown",
      "metadata": {
        "id": "e29e4AG5RV5v"
      },
      "source": [
        "## Wind"
      ]
    },
    {
      "cell_type": "code",
      "metadata": {
        "id": "iysvJ8Mt-e0L",
        "colab": {
          "base_uri": "https://localhost:8080/",
          "height": 412
        },
        "outputId": "d5467c3a-3b1b-4b46-d157-3ea9ce74823b"
      },
      "source": [
        "import seaborn as sns\n",
        "sns.set(rc={'figure.figsize':(12,6)})\n",
        "p = sns.lineplot(data=df, x=\"TIMESTAMP\", y=\"WS_ms_S_WVT\")\n",
        "p.set_xlabel(\"Date\", fontsize = 14)\n",
        "p.set_ylabel('Wind Velocity ($ms^{-1}$)')"
      ],
      "execution_count": 53,
      "outputs": [
        {
          "output_type": "execute_result",
          "data": {
            "text/plain": [
              "Text(0, 0.5, 'Wind Velocity ($ms^{-1}$)')"
            ]
          },
          "metadata": {
            "tags": []
          },
          "execution_count": 53
        },
        {
          "output_type": "display_data",
          "data": {
            "image/png": "[encoded data removed]",
            "text/plain": [
              "<Figure size 864x432 with 1 Axes>"
            ]
          },
          "metadata": {
            "tags": []
          }
        }
      ]
    },
    {
      "cell_type": "code",
      "metadata": {
        "id": "CcdTA-jO_Hv2"
      },
      "source": [
        "from windrose import WindroseAxes\n",
        "from windrose import plot_windrose\n",
        "from matplotlib import pyplot as plt\n",
        "import matplotlib.cm as cm\n",
        "import numpy as np"
      ],
      "execution_count": 14,
      "outputs": []
    },
    {
      "cell_type": "code",
      "metadata": {
        "id": "auyRErbsBBC0"
      },
      "source": [
        "# Grab the data\n",
        "ws = df.WS_ms_S_WVT\n",
        "wd = df.WindDir_D1_WVT"
      ],
      "execution_count": null,
      "outputs": []
    },
    {
      "cell_type": "code",
      "metadata": {
        "colab": {
          "base_uri": "https://localhost:8080/",
          "height": 631
        },
        "id": "SJGpuFo1MYe6",
        "outputId": "0790c1ed-9e91-4799-c39f-cd548276db86"
      },
      "source": [
        "ax = WindroseAxes.from_ax()\n",
        "ax.bar(wd, ws, normed=False, opening=0.8, cmap=cm.plasma, edgecolor='white')\n",
        "\n",
        "xtl = ax.set_xticklabels([\"E\", \"N-E\", \"N\", \"N-W\", \"W\", \"S-W\", \"S\", \"S-E\"])\n",
        "legend = ax.legend(loc='lower right',  title='Wind Velocity ($ms^{-1}$)')\n",
        "\n",
        "plt.title(\"Daily mean wind velocity, direction, and frequency\",y=1.08, fontsize = 16) #y=1.08 raises the title\n",
        "plt.show()\n"
      ],
      "execution_count": 54,
      "outputs": [
        {
          "output_type": "display_data",
          "data": {
            "image/png": "[encoded data removed]",
            "text/plain": [
              "<Figure size 640x640 with 1 Axes>"
            ]
          },
          "metadata": {
            "tags": []
          }
        }
      ]
    },
    {
      "cell_type": "code",
      "metadata": {
        "id": "vcHflVTiGLsp"
      },
      "source": [
        "import seaborn as sns\n",
        "sns.lineplot(data=dfSM, x=\"TIMESTAMP\", y=\"value\", hue=\"variable\")"
      ],
      "execution_count": null,
      "outputs": []
    },
    {
      "cell_type": "markdown",
      "metadata": {
        "id": "w0hh9majHZAp"
      },
      "source": [
        "Now do the same for soil temperature, and create a similar plot. \n",
        "\n",
        "Also figure out how to export your graphic, and then email it to me by 7:30."
      ]
    },
    {
      "cell_type": "code",
      "metadata": {
        "id": "O2M0hN7nflrW"
      },
      "source": [
        "sns.set(style = 'whitegrid') \n",
        "    \n",
        "sns.violinplot(x =\"variable\", \n",
        "             y =\"value\",\n",
        "             data = dfSM)"
      ],
      "execution_count": null,
      "outputs": []
    },
    {
      "cell_type": "code",
      "metadata": {
        "id": "dWhmjdq-flRZ"
      },
      "source": [
        "sns.set(style = 'whitegrid') \n",
        "    \n",
        "sns.violinplot(x =\"variable\", \n",
        "             y =\"value\",\n",
        "             data = dfTMP)"
      ],
      "execution_count": null,
      "outputs": []
    }
  ]
}